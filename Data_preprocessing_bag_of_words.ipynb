{
 "cells": [
  {
   "cell_type": "code",
   "execution_count": 1,
   "metadata": {},
   "outputs": [],
   "source": [
    "import pandas as pd\n",
    "import numpy as np\n",
    "from rake_nltk import Rake\n",
    "import nltk\n",
    "from nltk.corpus import stopwords\n",
    "import string\n",
    "import collections"
   ]
  },
  {
   "cell_type": "code",
   "execution_count": 2,
   "metadata": {},
   "outputs": [],
   "source": [
    "df = pd.read_csv(\"Dataset.csv\")"
   ]
  },
  {
   "cell_type": "code",
   "execution_count": 3,
   "metadata": {},
   "outputs": [
    {
     "data": {
      "text/html": [
       "<div>\n",
       "<style scoped>\n",
       "    .dataframe tbody tr th:only-of-type {\n",
       "        vertical-align: middle;\n",
       "    }\n",
       "\n",
       "    .dataframe tbody tr th {\n",
       "        vertical-align: top;\n",
       "    }\n",
       "\n",
       "    .dataframe thead th {\n",
       "        text-align: right;\n",
       "    }\n",
       "</style>\n",
       "<table border=\"1\" class=\"dataframe\">\n",
       "  <thead>\n",
       "    <tr style=\"text-align: right;\">\n",
       "      <th></th>\n",
       "      <th>Title</th>\n",
       "      <th>Desc_of_movies</th>\n",
       "      <th>IMDB_ID</th>\n",
       "      <th>Directors</th>\n",
       "      <th>Actors</th>\n",
       "      <th>Genres</th>\n",
       "      <th>Languages</th>\n",
       "    </tr>\n",
       "  </thead>\n",
       "  <tbody>\n",
       "    <tr>\n",
       "      <th>0</th>\n",
       "      <td>10 Cloverfield Lane</td>\n",
       "      <td>After breaking up with her fiancé, a woman ha...</td>\n",
       "      <td>1179933</td>\n",
       "      <td>Dan Trachtenberg</td>\n",
       "      <td>John Goodman, Mary Elizabeth Winstead, John Ga...</td>\n",
       "      <td>Action, Drama, Horror, Mystery, Sci-Fi, Thriller</td>\n",
       "      <td>English</td>\n",
       "    </tr>\n",
       "    <tr>\n",
       "      <th>1</th>\n",
       "      <td>10 Days in Sun City</td>\n",
       "      <td>After his girlfriend wins the Miss Nigeria pag...</td>\n",
       "      <td>10499474</td>\n",
       "      <td>Adze Ugah</td>\n",
       "      <td>Gbenro Ajibade, Adesua Etomi-Wellington, Ayo M...</td>\n",
       "      <td>Adventure, Comedy, Romance</td>\n",
       "      <td>English</td>\n",
       "    </tr>\n",
       "    <tr>\n",
       "      <th>2</th>\n",
       "      <td>10 jours en or</td>\n",
       "      <td>When a carefree bachelor is unexpectedly left ...</td>\n",
       "      <td>1729630</td>\n",
       "      <td>Nicolas Brossette</td>\n",
       "      <td>Franck Dubosc, Claude Rich, Marie Kremer, Math...</td>\n",
       "      <td>Comedy, Drama</td>\n",
       "      <td>French</td>\n",
       "    </tr>\n",
       "    <tr>\n",
       "      <th>3</th>\n",
       "      <td>100 Days Of Solitude (100 días de soledad)</td>\n",
       "      <td>Spanish photographer José Díaz spends 100 days...</td>\n",
       "      <td>8156742</td>\n",
       "      <td>José Díaz, Gerardo Olivares</td>\n",
       "      <td>José Díaz</td>\n",
       "      <td>Documentary, Drama</td>\n",
       "      <td>Spanish</td>\n",
       "    </tr>\n",
       "    <tr>\n",
       "      <th>4</th>\n",
       "      <td>100 Metros</td>\n",
       "      <td>A man who is diagnosed with multiple sclerosis...</td>\n",
       "      <td>5089786</td>\n",
       "      <td>Marcel Barrena</td>\n",
       "      <td>Dani Rovira, Karra Elejalde, Alexandra Jiménez...</td>\n",
       "      <td>Biography, Comedy, Drama</td>\n",
       "      <td>Spanish</td>\n",
       "    </tr>\n",
       "  </tbody>\n",
       "</table>\n",
       "</div>"
      ],
      "text/plain": [
       "                                         Title  \\\n",
       "0                         10 Cloverfield Lane    \n",
       "1                         10 Days in Sun City    \n",
       "2                              10 jours en or    \n",
       "3  100 Days Of Solitude (100 días de soledad)    \n",
       "4                                  100 Metros    \n",
       "\n",
       "                                      Desc_of_movies   IMDB_ID  \\\n",
       "0   After breaking up with her fiancé, a woman ha...   1179933   \n",
       "1  After his girlfriend wins the Miss Nigeria pag...  10499474   \n",
       "2  When a carefree bachelor is unexpectedly left ...   1729630   \n",
       "3  Spanish photographer José Díaz spends 100 days...   8156742   \n",
       "4  A man who is diagnosed with multiple sclerosis...   5089786   \n",
       "\n",
       "                     Directors  \\\n",
       "0             Dan Trachtenberg   \n",
       "1                    Adze Ugah   \n",
       "2            Nicolas Brossette   \n",
       "3  José Díaz, Gerardo Olivares   \n",
       "4               Marcel Barrena   \n",
       "\n",
       "                                              Actors  \\\n",
       "0  John Goodman, Mary Elizabeth Winstead, John Ga...   \n",
       "1  Gbenro Ajibade, Adesua Etomi-Wellington, Ayo M...   \n",
       "2  Franck Dubosc, Claude Rich, Marie Kremer, Math...   \n",
       "3                                          José Díaz   \n",
       "4  Dani Rovira, Karra Elejalde, Alexandra Jiménez...   \n",
       "\n",
       "                                             Genres Languages  \n",
       "0  Action, Drama, Horror, Mystery, Sci-Fi, Thriller   English  \n",
       "1                        Adventure, Comedy, Romance   English  \n",
       "2                                     Comedy, Drama    French  \n",
       "3                                Documentary, Drama   Spanish  \n",
       "4                          Biography, Comedy, Drama   Spanish  "
      ]
     },
     "execution_count": 3,
     "metadata": {},
     "output_type": "execute_result"
    }
   ],
   "source": [
    "df.head()"
   ]
  },
  {
   "cell_type": "code",
   "execution_count": 4,
   "metadata": {},
   "outputs": [],
   "source": [
    "df = df.drop(['IMDB_ID'],axis=1)"
   ]
  },
  {
   "cell_type": "code",
   "execution_count": 5,
   "metadata": {},
   "outputs": [
    {
     "data": {
      "text/html": [
       "<div>\n",
       "<style scoped>\n",
       "    .dataframe tbody tr th:only-of-type {\n",
       "        vertical-align: middle;\n",
       "    }\n",
       "\n",
       "    .dataframe tbody tr th {\n",
       "        vertical-align: top;\n",
       "    }\n",
       "\n",
       "    .dataframe thead th {\n",
       "        text-align: right;\n",
       "    }\n",
       "</style>\n",
       "<table border=\"1\" class=\"dataframe\">\n",
       "  <thead>\n",
       "    <tr style=\"text-align: right;\">\n",
       "      <th></th>\n",
       "      <th>Title</th>\n",
       "      <th>Desc_of_movies</th>\n",
       "      <th>Directors</th>\n",
       "      <th>Actors</th>\n",
       "      <th>Genres</th>\n",
       "      <th>Languages</th>\n",
       "    </tr>\n",
       "  </thead>\n",
       "  <tbody>\n",
       "    <tr>\n",
       "      <th>0</th>\n",
       "      <td>10 Cloverfield Lane</td>\n",
       "      <td>After breaking up with her fiancé, a woman ha...</td>\n",
       "      <td>Dan Trachtenberg</td>\n",
       "      <td>John Goodman, Mary Elizabeth Winstead, John Ga...</td>\n",
       "      <td>Action, Drama, Horror, Mystery, Sci-Fi, Thriller</td>\n",
       "      <td>English</td>\n",
       "    </tr>\n",
       "    <tr>\n",
       "      <th>1</th>\n",
       "      <td>10 Days in Sun City</td>\n",
       "      <td>After his girlfriend wins the Miss Nigeria pag...</td>\n",
       "      <td>Adze Ugah</td>\n",
       "      <td>Gbenro Ajibade, Adesua Etomi-Wellington, Ayo M...</td>\n",
       "      <td>Adventure, Comedy, Romance</td>\n",
       "      <td>English</td>\n",
       "    </tr>\n",
       "    <tr>\n",
       "      <th>2</th>\n",
       "      <td>10 jours en or</td>\n",
       "      <td>When a carefree bachelor is unexpectedly left ...</td>\n",
       "      <td>Nicolas Brossette</td>\n",
       "      <td>Franck Dubosc, Claude Rich, Marie Kremer, Math...</td>\n",
       "      <td>Comedy, Drama</td>\n",
       "      <td>French</td>\n",
       "    </tr>\n",
       "    <tr>\n",
       "      <th>3</th>\n",
       "      <td>100 Days Of Solitude (100 días de soledad)</td>\n",
       "      <td>Spanish photographer José Díaz spends 100 days...</td>\n",
       "      <td>José Díaz, Gerardo Olivares</td>\n",
       "      <td>José Díaz</td>\n",
       "      <td>Documentary, Drama</td>\n",
       "      <td>Spanish</td>\n",
       "    </tr>\n",
       "    <tr>\n",
       "      <th>4</th>\n",
       "      <td>100 Metros</td>\n",
       "      <td>A man who is diagnosed with multiple sclerosis...</td>\n",
       "      <td>Marcel Barrena</td>\n",
       "      <td>Dani Rovira, Karra Elejalde, Alexandra Jiménez...</td>\n",
       "      <td>Biography, Comedy, Drama</td>\n",
       "      <td>Spanish</td>\n",
       "    </tr>\n",
       "  </tbody>\n",
       "</table>\n",
       "</div>"
      ],
      "text/plain": [
       "                                         Title  \\\n",
       "0                         10 Cloverfield Lane    \n",
       "1                         10 Days in Sun City    \n",
       "2                              10 jours en or    \n",
       "3  100 Days Of Solitude (100 días de soledad)    \n",
       "4                                  100 Metros    \n",
       "\n",
       "                                      Desc_of_movies  \\\n",
       "0   After breaking up with her fiancé, a woman ha...   \n",
       "1  After his girlfriend wins the Miss Nigeria pag...   \n",
       "2  When a carefree bachelor is unexpectedly left ...   \n",
       "3  Spanish photographer José Díaz spends 100 days...   \n",
       "4  A man who is diagnosed with multiple sclerosis...   \n",
       "\n",
       "                     Directors  \\\n",
       "0             Dan Trachtenberg   \n",
       "1                    Adze Ugah   \n",
       "2            Nicolas Brossette   \n",
       "3  José Díaz, Gerardo Olivares   \n",
       "4               Marcel Barrena   \n",
       "\n",
       "                                              Actors  \\\n",
       "0  John Goodman, Mary Elizabeth Winstead, John Ga...   \n",
       "1  Gbenro Ajibade, Adesua Etomi-Wellington, Ayo M...   \n",
       "2  Franck Dubosc, Claude Rich, Marie Kremer, Math...   \n",
       "3                                          José Díaz   \n",
       "4  Dani Rovira, Karra Elejalde, Alexandra Jiménez...   \n",
       "\n",
       "                                             Genres Languages  \n",
       "0  Action, Drama, Horror, Mystery, Sci-Fi, Thriller   English  \n",
       "1                        Adventure, Comedy, Romance   English  \n",
       "2                                     Comedy, Drama    French  \n",
       "3                                Documentary, Drama   Spanish  \n",
       "4                          Biography, Comedy, Drama   Spanish  "
      ]
     },
     "execution_count": 5,
     "metadata": {},
     "output_type": "execute_result"
    }
   ],
   "source": [
    "df.head()"
   ]
  },
  {
   "cell_type": "code",
   "execution_count": 6,
   "metadata": {},
   "outputs": [
    {
     "data": {
      "text/plain": [
       "\" After breaking up with her fiancé, a woman has an accident and wakes up in a bunker with a man who convinces her there's been an apocalyptic event.\""
      ]
     },
     "execution_count": 6,
     "metadata": {},
     "output_type": "execute_result"
    }
   ],
   "source": [
    "list_of_desc_movies = list(df.Desc_of_movies)\n",
    "list_of_desc_movies[0]"
   ]
  },
  {
   "cell_type": "code",
   "execution_count": 7,
   "metadata": {},
   "outputs": [
    {
     "data": {
      "text/plain": [
       "['apocalyptic event',\n",
       " 'woman',\n",
       " 'wakes',\n",
       " 'man',\n",
       " 'fiancé',\n",
       " 'convinces',\n",
       " 'bunker',\n",
       " 'breaking',\n",
       " 'accident']"
      ]
     },
     "execution_count": 7,
     "metadata": {},
     "output_type": "execute_result"
    }
   ],
   "source": [
    "r = Rake()\n",
    "r.extract_keywords_from_text(list_of_desc_movies[0])\n",
    "r.get_ranked_phrases()"
   ]
  },
  {
   "cell_type": "code",
   "execution_count": 8,
   "metadata": {},
   "outputs": [
    {
     "data": {
      "text/plain": [
       "' After breaking up with her fiancé a woman has an accident and wakes up in a bunker with a man who convinces her theres been an apocalyptic event'"
      ]
     },
     "execution_count": 8,
     "metadata": {},
     "output_type": "execute_result"
    }
   ],
   "source": [
    "list_of_desc_movies[0].translate(str.maketrans('', '', string.punctuation))"
   ]
  },
  {
   "cell_type": "code",
   "execution_count": 9,
   "metadata": {},
   "outputs": [
    {
     "data": {
      "text/plain": [
       "{'accident',\n",
       " 'apocalyptic',\n",
       " 'breaking',\n",
       " 'bunker',\n",
       " 'convinces',\n",
       " 'event.',\n",
       " 'fiancé,',\n",
       " 'man',\n",
       " \"there's\",\n",
       " 'wakes',\n",
       " 'woman'}"
      ]
     },
     "execution_count": 9,
     "metadata": {},
     "output_type": "execute_result"
    }
   ],
   "source": [
    "filtered_desc = [word for word in [word.lower() for word in list_of_desc_movies[0].split()] if word not in stopwords.words('english')]\n",
    "set(filtered_desc)"
   ]
  },
  {
   "cell_type": "code",
   "execution_count": 10,
   "metadata": {},
   "outputs": [
    {
     "data": {
      "text/html": [
       "<div>\n",
       "<style scoped>\n",
       "    .dataframe tbody tr th:only-of-type {\n",
       "        vertical-align: middle;\n",
       "    }\n",
       "\n",
       "    .dataframe tbody tr th {\n",
       "        vertical-align: top;\n",
       "    }\n",
       "\n",
       "    .dataframe thead th {\n",
       "        text-align: right;\n",
       "    }\n",
       "</style>\n",
       "<table border=\"1\" class=\"dataframe\">\n",
       "  <thead>\n",
       "    <tr style=\"text-align: right;\">\n",
       "      <th></th>\n",
       "      <th>Title</th>\n",
       "      <th>Desc_of_movies</th>\n",
       "      <th>Directors</th>\n",
       "      <th>Actors</th>\n",
       "      <th>Genres</th>\n",
       "      <th>Languages</th>\n",
       "    </tr>\n",
       "  </thead>\n",
       "  <tbody>\n",
       "    <tr>\n",
       "      <th>0</th>\n",
       "      <td>10 Cloverfield Lane</td>\n",
       "      <td>theres, convinces, woman, apocalyptic, acciden...</td>\n",
       "      <td>Dan Trachtenberg</td>\n",
       "      <td>John Goodman, Mary Elizabeth Winstead, John Ga...</td>\n",
       "      <td>Action, Drama, Horror, Mystery, Sci-Fi, Thriller</td>\n",
       "      <td>English</td>\n",
       "    </tr>\n",
       "    <tr>\n",
       "      <th>1</th>\n",
       "      <td>10 Days in Sun City</td>\n",
       "      <td>unexpected, south, nigeria, faces, joins, page...</td>\n",
       "      <td>Adze Ugah</td>\n",
       "      <td>Gbenro Ajibade, Adesua Etomi-Wellington, Ayo M...</td>\n",
       "      <td>Adventure, Comedy, Romance</td>\n",
       "      <td>English</td>\n",
       "    </tr>\n",
       "    <tr>\n",
       "      <th>2</th>\n",
       "      <td>10 jours en or</td>\n",
       "      <td>boy, trip, lives, left, embark, young, carefre...</td>\n",
       "      <td>Nicolas Brossette</td>\n",
       "      <td>Franck Dubosc, Claude Rich, Marie Kremer, Math...</td>\n",
       "      <td>Comedy, Drama</td>\n",
       "      <td>French</td>\n",
       "    </tr>\n",
       "    <tr>\n",
       "      <th>3</th>\n",
       "      <td>100 Days Of Solitude (100 días de soledad)</td>\n",
       "      <td>alone, connecting, photographer, spanish, beau...</td>\n",
       "      <td>José Díaz, Gerardo Olivares</td>\n",
       "      <td>José Díaz</td>\n",
       "      <td>Documentary, Drama</td>\n",
       "      <td>Spanish</td>\n",
       "    </tr>\n",
       "    <tr>\n",
       "      <th>4</th>\n",
       "      <td>100 Metros</td>\n",
       "      <td>sclerosis, multiple, fatherinlaws, cranky, tri...</td>\n",
       "      <td>Marcel Barrena</td>\n",
       "      <td>Dani Rovira, Karra Elejalde, Alexandra Jiménez...</td>\n",
       "      <td>Biography, Comedy, Drama</td>\n",
       "      <td>Spanish</td>\n",
       "    </tr>\n",
       "  </tbody>\n",
       "</table>\n",
       "</div>"
      ],
      "text/plain": [
       "                                         Title  \\\n",
       "0                         10 Cloverfield Lane    \n",
       "1                         10 Days in Sun City    \n",
       "2                              10 jours en or    \n",
       "3  100 Days Of Solitude (100 días de soledad)    \n",
       "4                                  100 Metros    \n",
       "\n",
       "                                      Desc_of_movies  \\\n",
       "0  theres, convinces, woman, apocalyptic, acciden...   \n",
       "1  unexpected, south, nigeria, faces, joins, page...   \n",
       "2  boy, trip, lives, left, embark, young, carefre...   \n",
       "3  alone, connecting, photographer, spanish, beau...   \n",
       "4  sclerosis, multiple, fatherinlaws, cranky, tri...   \n",
       "\n",
       "                     Directors  \\\n",
       "0             Dan Trachtenberg   \n",
       "1                    Adze Ugah   \n",
       "2            Nicolas Brossette   \n",
       "3  José Díaz, Gerardo Olivares   \n",
       "4               Marcel Barrena   \n",
       "\n",
       "                                              Actors  \\\n",
       "0  John Goodman, Mary Elizabeth Winstead, John Ga...   \n",
       "1  Gbenro Ajibade, Adesua Etomi-Wellington, Ayo M...   \n",
       "2  Franck Dubosc, Claude Rich, Marie Kremer, Math...   \n",
       "3                                          José Díaz   \n",
       "4  Dani Rovira, Karra Elejalde, Alexandra Jiménez...   \n",
       "\n",
       "                                             Genres Languages  \n",
       "0  Action, Drama, Horror, Mystery, Sci-Fi, Thriller   English  \n",
       "1                        Adventure, Comedy, Romance   English  \n",
       "2                                     Comedy, Drama    French  \n",
       "3                                Documentary, Drama   Spanish  \n",
       "4                          Biography, Comedy, Drama   Spanish  "
      ]
     },
     "execution_count": 10,
     "metadata": {},
     "output_type": "execute_result"
    }
   ],
   "source": [
    "description = []\n",
    "\n",
    "for mymovie in df['Desc_of_movies']:\n",
    "    \n",
    "    mymovie = mymovie.translate(str.maketrans('', '', string.punctuation))\n",
    "    \n",
    "    filtered_desc = []\n",
    "    \n",
    "    filtered_desc = [word for word in [word.lower() for word in mymovie.split()] if word not in stopwords.words('english')]\n",
    "    \n",
    "    filtered_desc = set(filtered_desc)\n",
    "    \n",
    "    description.append(\", \".join(filtered_desc))\n",
    "\n",
    "df['Desc_of_movies'] = description\n",
    "df.head()"
   ]
  },
  {
   "cell_type": "code",
   "execution_count": 11,
   "metadata": {},
   "outputs": [
    {
     "data": {
      "text/html": [
       "<div>\n",
       "<style scoped>\n",
       "    .dataframe tbody tr th:only-of-type {\n",
       "        vertical-align: middle;\n",
       "    }\n",
       "\n",
       "    .dataframe tbody tr th {\n",
       "        vertical-align: top;\n",
       "    }\n",
       "\n",
       "    .dataframe thead th {\n",
       "        text-align: right;\n",
       "    }\n",
       "</style>\n",
       "<table border=\"1\" class=\"dataframe\">\n",
       "  <thead>\n",
       "    <tr style=\"text-align: right;\">\n",
       "      <th></th>\n",
       "      <th>Title</th>\n",
       "      <th>Desc_of_movies</th>\n",
       "      <th>Directors</th>\n",
       "      <th>Actors</th>\n",
       "      <th>Genres</th>\n",
       "      <th>Languages</th>\n",
       "    </tr>\n",
       "  </thead>\n",
       "  <tbody>\n",
       "    <tr>\n",
       "      <th>0</th>\n",
       "      <td>10 Cloverfield Lane</td>\n",
       "      <td>theres, convinces, woman, apocalyptic, acciden...</td>\n",
       "      <td>dantrachtenberg</td>\n",
       "      <td>John Goodman, Mary Elizabeth Winstead, John Ga...</td>\n",
       "      <td>Action, Drama, Horror, Mystery, Sci-Fi, Thriller</td>\n",
       "      <td>English</td>\n",
       "    </tr>\n",
       "    <tr>\n",
       "      <th>1</th>\n",
       "      <td>10 Days in Sun City</td>\n",
       "      <td>unexpected, south, nigeria, faces, joins, page...</td>\n",
       "      <td>adzeugah</td>\n",
       "      <td>Gbenro Ajibade, Adesua Etomi-Wellington, Ayo M...</td>\n",
       "      <td>Adventure, Comedy, Romance</td>\n",
       "      <td>English</td>\n",
       "    </tr>\n",
       "    <tr>\n",
       "      <th>2</th>\n",
       "      <td>10 jours en or</td>\n",
       "      <td>boy, trip, lives, left, embark, young, carefre...</td>\n",
       "      <td>nicolasbrossette</td>\n",
       "      <td>Franck Dubosc, Claude Rich, Marie Kremer, Math...</td>\n",
       "      <td>Comedy, Drama</td>\n",
       "      <td>French</td>\n",
       "    </tr>\n",
       "    <tr>\n",
       "      <th>3</th>\n",
       "      <td>100 Days Of Solitude (100 días de soledad)</td>\n",
       "      <td>alone, connecting, photographer, spanish, beau...</td>\n",
       "      <td>josédíaz, gerardoolivares</td>\n",
       "      <td>José Díaz</td>\n",
       "      <td>Documentary, Drama</td>\n",
       "      <td>Spanish</td>\n",
       "    </tr>\n",
       "    <tr>\n",
       "      <th>4</th>\n",
       "      <td>100 Metros</td>\n",
       "      <td>sclerosis, multiple, fatherinlaws, cranky, tri...</td>\n",
       "      <td>marcelbarrena</td>\n",
       "      <td>Dani Rovira, Karra Elejalde, Alexandra Jiménez...</td>\n",
       "      <td>Biography, Comedy, Drama</td>\n",
       "      <td>Spanish</td>\n",
       "    </tr>\n",
       "  </tbody>\n",
       "</table>\n",
       "</div>"
      ],
      "text/plain": [
       "                                         Title  \\\n",
       "0                         10 Cloverfield Lane    \n",
       "1                         10 Days in Sun City    \n",
       "2                              10 jours en or    \n",
       "3  100 Days Of Solitude (100 días de soledad)    \n",
       "4                                  100 Metros    \n",
       "\n",
       "                                      Desc_of_movies  \\\n",
       "0  theres, convinces, woman, apocalyptic, acciden...   \n",
       "1  unexpected, south, nigeria, faces, joins, page...   \n",
       "2  boy, trip, lives, left, embark, young, carefre...   \n",
       "3  alone, connecting, photographer, spanish, beau...   \n",
       "4  sclerosis, multiple, fatherinlaws, cranky, tri...   \n",
       "\n",
       "                   Directors  \\\n",
       "0            dantrachtenberg   \n",
       "1                   adzeugah   \n",
       "2           nicolasbrossette   \n",
       "3  josédíaz, gerardoolivares   \n",
       "4              marcelbarrena   \n",
       "\n",
       "                                              Actors  \\\n",
       "0  John Goodman, Mary Elizabeth Winstead, John Ga...   \n",
       "1  Gbenro Ajibade, Adesua Etomi-Wellington, Ayo M...   \n",
       "2  Franck Dubosc, Claude Rich, Marie Kremer, Math...   \n",
       "3                                          José Díaz   \n",
       "4  Dani Rovira, Karra Elejalde, Alexandra Jiménez...   \n",
       "\n",
       "                                             Genres Languages  \n",
       "0  Action, Drama, Horror, Mystery, Sci-Fi, Thriller   English  \n",
       "1                        Adventure, Comedy, Romance   English  \n",
       "2                                     Comedy, Drama    French  \n",
       "3                                Documentary, Drama   Spanish  \n",
       "4                          Biography, Comedy, Drama   Spanish  "
      ]
     },
     "execution_count": 11,
     "metadata": {},
     "output_type": "execute_result"
    }
   ],
   "source": [
    "directors = []\n",
    "\n",
    "for mydir in df['Directors']:\n",
    "    \n",
    "    edited_dir = [word.replace(\" \",\"\").lower() for word in mydir.split(',')]\n",
    "    \n",
    "    directors.append(\", \".join(edited_dir))\n",
    "    \n",
    "df['Directors'] = directors\n",
    "df.head()"
   ]
  },
  {
   "cell_type": "code",
   "execution_count": 12,
   "metadata": {},
   "outputs": [
    {
     "data": {
      "text/html": [
       "<div>\n",
       "<style scoped>\n",
       "    .dataframe tbody tr th:only-of-type {\n",
       "        vertical-align: middle;\n",
       "    }\n",
       "\n",
       "    .dataframe tbody tr th {\n",
       "        vertical-align: top;\n",
       "    }\n",
       "\n",
       "    .dataframe thead th {\n",
       "        text-align: right;\n",
       "    }\n",
       "</style>\n",
       "<table border=\"1\" class=\"dataframe\">\n",
       "  <thead>\n",
       "    <tr style=\"text-align: right;\">\n",
       "      <th></th>\n",
       "      <th>Title</th>\n",
       "      <th>Desc_of_movies</th>\n",
       "      <th>Directors</th>\n",
       "      <th>Actors</th>\n",
       "      <th>Genres</th>\n",
       "      <th>Languages</th>\n",
       "    </tr>\n",
       "  </thead>\n",
       "  <tbody>\n",
       "    <tr>\n",
       "      <th>0</th>\n",
       "      <td>10 Cloverfield Lane</td>\n",
       "      <td>theres, convinces, woman, apocalyptic, acciden...</td>\n",
       "      <td>dantrachtenberg</td>\n",
       "      <td>johngoodman, maryelizabethwinstead, johngallag...</td>\n",
       "      <td>Action, Drama, Horror, Mystery, Sci-Fi, Thriller</td>\n",
       "      <td>English</td>\n",
       "    </tr>\n",
       "    <tr>\n",
       "      <th>1</th>\n",
       "      <td>10 Days in Sun City</td>\n",
       "      <td>unexpected, south, nigeria, faces, joins, page...</td>\n",
       "      <td>adzeugah</td>\n",
       "      <td>gbenroajibade, adesuaetomi-wellington, ayomaku...</td>\n",
       "      <td>Adventure, Comedy, Romance</td>\n",
       "      <td>English</td>\n",
       "    </tr>\n",
       "    <tr>\n",
       "      <th>2</th>\n",
       "      <td>10 jours en or</td>\n",
       "      <td>boy, trip, lives, left, embark, young, carefre...</td>\n",
       "      <td>nicolasbrossette</td>\n",
       "      <td>franckdubosc, clauderich, mariekremer, mathist...</td>\n",
       "      <td>Comedy, Drama</td>\n",
       "      <td>French</td>\n",
       "    </tr>\n",
       "    <tr>\n",
       "      <th>3</th>\n",
       "      <td>100 Days Of Solitude (100 días de soledad)</td>\n",
       "      <td>alone, connecting, photographer, spanish, beau...</td>\n",
       "      <td>josédíaz, gerardoolivares</td>\n",
       "      <td>josédíaz</td>\n",
       "      <td>Documentary, Drama</td>\n",
       "      <td>Spanish</td>\n",
       "    </tr>\n",
       "    <tr>\n",
       "      <th>4</th>\n",
       "      <td>100 Metros</td>\n",
       "      <td>sclerosis, multiple, fatherinlaws, cranky, tri...</td>\n",
       "      <td>marcelbarrena</td>\n",
       "      <td>danirovira, karraelejalde, alexandrajiménez, d...</td>\n",
       "      <td>Biography, Comedy, Drama</td>\n",
       "      <td>Spanish</td>\n",
       "    </tr>\n",
       "  </tbody>\n",
       "</table>\n",
       "</div>"
      ],
      "text/plain": [
       "                                         Title  \\\n",
       "0                         10 Cloverfield Lane    \n",
       "1                         10 Days in Sun City    \n",
       "2                              10 jours en or    \n",
       "3  100 Days Of Solitude (100 días de soledad)    \n",
       "4                                  100 Metros    \n",
       "\n",
       "                                      Desc_of_movies  \\\n",
       "0  theres, convinces, woman, apocalyptic, acciden...   \n",
       "1  unexpected, south, nigeria, faces, joins, page...   \n",
       "2  boy, trip, lives, left, embark, young, carefre...   \n",
       "3  alone, connecting, photographer, spanish, beau...   \n",
       "4  sclerosis, multiple, fatherinlaws, cranky, tri...   \n",
       "\n",
       "                   Directors  \\\n",
       "0            dantrachtenberg   \n",
       "1                   adzeugah   \n",
       "2           nicolasbrossette   \n",
       "3  josédíaz, gerardoolivares   \n",
       "4              marcelbarrena   \n",
       "\n",
       "                                              Actors  \\\n",
       "0  johngoodman, maryelizabethwinstead, johngallag...   \n",
       "1  gbenroajibade, adesuaetomi-wellington, ayomaku...   \n",
       "2  franckdubosc, clauderich, mariekremer, mathist...   \n",
       "3                                           josédíaz   \n",
       "4  danirovira, karraelejalde, alexandrajiménez, d...   \n",
       "\n",
       "                                             Genres Languages  \n",
       "0  Action, Drama, Horror, Mystery, Sci-Fi, Thriller   English  \n",
       "1                        Adventure, Comedy, Romance   English  \n",
       "2                                     Comedy, Drama    French  \n",
       "3                                Documentary, Drama   Spanish  \n",
       "4                          Biography, Comedy, Drama   Spanish  "
      ]
     },
     "execution_count": 12,
     "metadata": {},
     "output_type": "execute_result"
    }
   ],
   "source": [
    "actors = []\n",
    "\n",
    "for myact in df['Actors']:\n",
    "    \n",
    "    edited_act = [word.replace(\" \",\"\").lower() for word in myact.split(',')]\n",
    "    \n",
    "    actors.append(\", \".join(edited_act))\n",
    "    \n",
    "df['Actors'] = actors\n",
    "df.head()"
   ]
  },
  {
   "cell_type": "code",
   "execution_count": 13,
   "metadata": {},
   "outputs": [
    {
     "data": {
      "text/html": [
       "<div>\n",
       "<style scoped>\n",
       "    .dataframe tbody tr th:only-of-type {\n",
       "        vertical-align: middle;\n",
       "    }\n",
       "\n",
       "    .dataframe tbody tr th {\n",
       "        vertical-align: top;\n",
       "    }\n",
       "\n",
       "    .dataframe thead th {\n",
       "        text-align: right;\n",
       "    }\n",
       "</style>\n",
       "<table border=\"1\" class=\"dataframe\">\n",
       "  <thead>\n",
       "    <tr style=\"text-align: right;\">\n",
       "      <th></th>\n",
       "      <th>Title</th>\n",
       "      <th>Desc_of_movies</th>\n",
       "      <th>Directors</th>\n",
       "      <th>Actors</th>\n",
       "      <th>Genres</th>\n",
       "      <th>Languages</th>\n",
       "    </tr>\n",
       "  </thead>\n",
       "  <tbody>\n",
       "    <tr>\n",
       "      <th>0</th>\n",
       "      <td>10 Cloverfield Lane</td>\n",
       "      <td>theres, convinces, woman, apocalyptic, acciden...</td>\n",
       "      <td>dantrachtenberg</td>\n",
       "      <td>johngoodman, maryelizabethwinstead, johngallag...</td>\n",
       "      <td>action, drama, horror, mystery, sci-fi, thriller</td>\n",
       "      <td>english</td>\n",
       "    </tr>\n",
       "    <tr>\n",
       "      <th>1</th>\n",
       "      <td>10 Days in Sun City</td>\n",
       "      <td>unexpected, south, nigeria, faces, joins, page...</td>\n",
       "      <td>adzeugah</td>\n",
       "      <td>gbenroajibade, adesuaetomi-wellington, ayomaku...</td>\n",
       "      <td>adventure, comedy, romance</td>\n",
       "      <td>english</td>\n",
       "    </tr>\n",
       "    <tr>\n",
       "      <th>2</th>\n",
       "      <td>10 jours en or</td>\n",
       "      <td>boy, trip, lives, left, embark, young, carefre...</td>\n",
       "      <td>nicolasbrossette</td>\n",
       "      <td>franckdubosc, clauderich, mariekremer, mathist...</td>\n",
       "      <td>comedy, drama</td>\n",
       "      <td>french</td>\n",
       "    </tr>\n",
       "    <tr>\n",
       "      <th>3</th>\n",
       "      <td>100 Days Of Solitude (100 días de soledad)</td>\n",
       "      <td>alone, connecting, photographer, spanish, beau...</td>\n",
       "      <td>josédíaz, gerardoolivares</td>\n",
       "      <td>josédíaz</td>\n",
       "      <td>documentary, drama</td>\n",
       "      <td>spanish</td>\n",
       "    </tr>\n",
       "    <tr>\n",
       "      <th>4</th>\n",
       "      <td>100 Metros</td>\n",
       "      <td>sclerosis, multiple, fatherinlaws, cranky, tri...</td>\n",
       "      <td>marcelbarrena</td>\n",
       "      <td>danirovira, karraelejalde, alexandrajiménez, d...</td>\n",
       "      <td>biography, comedy, drama</td>\n",
       "      <td>spanish</td>\n",
       "    </tr>\n",
       "  </tbody>\n",
       "</table>\n",
       "</div>"
      ],
      "text/plain": [
       "                                         Title  \\\n",
       "0                         10 Cloverfield Lane    \n",
       "1                         10 Days in Sun City    \n",
       "2                              10 jours en or    \n",
       "3  100 Days Of Solitude (100 días de soledad)    \n",
       "4                                  100 Metros    \n",
       "\n",
       "                                      Desc_of_movies  \\\n",
       "0  theres, convinces, woman, apocalyptic, acciden...   \n",
       "1  unexpected, south, nigeria, faces, joins, page...   \n",
       "2  boy, trip, lives, left, embark, young, carefre...   \n",
       "3  alone, connecting, photographer, spanish, beau...   \n",
       "4  sclerosis, multiple, fatherinlaws, cranky, tri...   \n",
       "\n",
       "                   Directors  \\\n",
       "0            dantrachtenberg   \n",
       "1                   adzeugah   \n",
       "2           nicolasbrossette   \n",
       "3  josédíaz, gerardoolivares   \n",
       "4              marcelbarrena   \n",
       "\n",
       "                                              Actors  \\\n",
       "0  johngoodman, maryelizabethwinstead, johngallag...   \n",
       "1  gbenroajibade, adesuaetomi-wellington, ayomaku...   \n",
       "2  franckdubosc, clauderich, mariekremer, mathist...   \n",
       "3                                           josédíaz   \n",
       "4  danirovira, karraelejalde, alexandrajiménez, d...   \n",
       "\n",
       "                                             Genres Languages  \n",
       "0  action, drama, horror, mystery, sci-fi, thriller   english  \n",
       "1                        adventure, comedy, romance   english  \n",
       "2                                     comedy, drama    french  \n",
       "3                                documentary, drama   spanish  \n",
       "4                          biography, comedy, drama   spanish  "
      ]
     },
     "execution_count": 13,
     "metadata": {},
     "output_type": "execute_result"
    }
   ],
   "source": [
    "genres = [genre.lower() for genre in df['Genres']]\n",
    "languages = [language.lower() for language in df['Languages']]\n",
    "\n",
    "df['Genres'] = genres\n",
    "df['Languages'] = languages\n",
    "df.head()"
   ]
  },
  {
   "cell_type": "code",
   "execution_count": 14,
   "metadata": {},
   "outputs": [
    {
     "data": {
      "text/plain": [
       "1019"
      ]
     },
     "execution_count": 14,
     "metadata": {},
     "output_type": "execute_result"
    }
   ],
   "source": [
    "sum(df['Directors'] == 'nan')"
   ]
  },
  {
   "cell_type": "code",
   "execution_count": 15,
   "metadata": {},
   "outputs": [
    {
     "data": {
      "text/plain": [
       "727"
      ]
     },
     "execution_count": 15,
     "metadata": {},
     "output_type": "execute_result"
    }
   ],
   "source": [
    "sum(df['Actors'] == 'nan')"
   ]
  },
  {
   "cell_type": "code",
   "execution_count": 16,
   "metadata": {},
   "outputs": [
    {
     "data": {
      "text/plain": [
       "667"
      ]
     },
     "execution_count": 16,
     "metadata": {},
     "output_type": "execute_result"
    }
   ],
   "source": [
    "sum(df['Genres'] == 'nan')"
   ]
  },
  {
   "cell_type": "code",
   "execution_count": 17,
   "metadata": {},
   "outputs": [
    {
     "data": {
      "text/plain": [
       "755"
      ]
     },
     "execution_count": 17,
     "metadata": {},
     "output_type": "execute_result"
    }
   ],
   "source": [
    "sum(df['Languages'] == 'nan')"
   ]
  },
  {
   "cell_type": "code",
   "execution_count": 18,
   "metadata": {},
   "outputs": [
    {
     "data": {
      "text/plain": [
       "(3466, 6)"
      ]
     },
     "execution_count": 18,
     "metadata": {},
     "output_type": "execute_result"
    }
   ],
   "source": [
    "df.drop(df[df['Directors'] == 'nan'].index,inplace=True)\n",
    "df.drop(df[df['Actors'] == 'nan'].index,inplace=True)\n",
    "df.drop(df[df['Genres'] == 'nan'].index,inplace=True)\n",
    "df.drop(df[df['Languages'] == 'nan'].index,inplace=True)\n",
    "df.shape"
   ]
  },
  {
   "cell_type": "code",
   "execution_count": 19,
   "metadata": {},
   "outputs": [],
   "source": [
    "bag_of_word = df['Desc_of_movies'] + \", \" + df['Directors'] + \", \" + df['Actors'] + \", \" + df['Genres']\n",
    "bag_of_words = [word.replace(\",\",\"\") for word in bag_of_word]"
   ]
  },
  {
   "cell_type": "code",
   "execution_count": 20,
   "metadata": {},
   "outputs": [],
   "source": [
    "data = pd.DataFrame({'Title':df['Title'],'Bag_of_words':bag_of_words})"
   ]
  },
  {
   "cell_type": "code",
   "execution_count": 21,
   "metadata": {},
   "outputs": [
    {
     "data": {
      "text/plain": [
       "(3466, 2)"
      ]
     },
     "execution_count": 21,
     "metadata": {},
     "output_type": "execute_result"
    }
   ],
   "source": [
    "data.shape"
   ]
  },
  {
   "cell_type": "code",
   "execution_count": 25,
   "metadata": {},
   "outputs": [
    {
     "data": {
      "text/html": [
       "<div>\n",
       "<style scoped>\n",
       "    .dataframe tbody tr th:only-of-type {\n",
       "        vertical-align: middle;\n",
       "    }\n",
       "\n",
       "    .dataframe tbody tr th {\n",
       "        vertical-align: top;\n",
       "    }\n",
       "\n",
       "    .dataframe thead th {\n",
       "        text-align: right;\n",
       "    }\n",
       "</style>\n",
       "<table border=\"1\" class=\"dataframe\">\n",
       "  <thead>\n",
       "    <tr style=\"text-align: right;\">\n",
       "      <th></th>\n",
       "      <th>Title</th>\n",
       "      <th>Bag_of_words</th>\n",
       "    </tr>\n",
       "  </thead>\n",
       "  <tbody>\n",
       "    <tr>\n",
       "      <th>0</th>\n",
       "      <td>10 Cloverfield Lane</td>\n",
       "      <td>theres convinces woman apocalyptic accident bu...</td>\n",
       "    </tr>\n",
       "    <tr>\n",
       "      <th>1</th>\n",
       "      <td>10 Days in Sun City</td>\n",
       "      <td>unexpected south nigeria faces joins pageant w...</td>\n",
       "    </tr>\n",
       "    <tr>\n",
       "      <th>2</th>\n",
       "      <td>10 jours en or</td>\n",
       "      <td>boy trip lives left embark young carefree road...</td>\n",
       "    </tr>\n",
       "    <tr>\n",
       "      <th>3</th>\n",
       "      <td>100 Days Of Solitude (100 días de soledad)</td>\n",
       "      <td>alone connecting photographer spanish beauty s...</td>\n",
       "    </tr>\n",
       "    <tr>\n",
       "      <th>4</th>\n",
       "      <td>100 Metros</td>\n",
       "      <td>sclerosis multiple fatherinlaws cranky triathl...</td>\n",
       "    </tr>\n",
       "    <tr>\n",
       "      <th>5</th>\n",
       "      <td>الف مبروك (1000 Mabrouk)</td>\n",
       "      <td>accountant arrogant greedy experiences keep da...</td>\n",
       "    </tr>\n",
       "    <tr>\n",
       "      <th>6</th>\n",
       "      <td>1000 Rupee Note</td>\n",
       "      <td>bribe receiving doesnt political woman treat s...</td>\n",
       "    </tr>\n",
       "    <tr>\n",
       "      <th>7</th>\n",
       "      <td>The 101-Year-Old Man Who Skipped Out on the Bi...</td>\n",
       "      <td>formula younger octogenarian soda internationa...</td>\n",
       "    </tr>\n",
       "    <tr>\n",
       "      <th>8</th>\n",
       "      <td>12 Gifts of Christmas</td>\n",
       "      <td>starving ability buy sold personal finds meets...</td>\n",
       "    </tr>\n",
       "    <tr>\n",
       "      <th>9</th>\n",
       "      <td>12 Monkeys</td>\n",
       "      <td>2035 time volunteers back virus population dea...</td>\n",
       "    </tr>\n",
       "  </tbody>\n",
       "</table>\n",
       "</div>"
      ],
      "text/plain": [
       "                                               Title  \\\n",
       "0                               10 Cloverfield Lane    \n",
       "1                               10 Days in Sun City    \n",
       "2                                    10 jours en or    \n",
       "3        100 Days Of Solitude (100 días de soledad)    \n",
       "4                                        100 Metros    \n",
       "5                          الف مبروك (1000 Mabrouk)    \n",
       "6                                   1000 Rupee Note    \n",
       "7  The 101-Year-Old Man Who Skipped Out on the Bi...   \n",
       "8                             12 Gifts of Christmas    \n",
       "9                                        12 Monkeys    \n",
       "\n",
       "                                        Bag_of_words  \n",
       "0  theres convinces woman apocalyptic accident bu...  \n",
       "1  unexpected south nigeria faces joins pageant w...  \n",
       "2  boy trip lives left embark young carefree road...  \n",
       "3  alone connecting photographer spanish beauty s...  \n",
       "4  sclerosis multiple fatherinlaws cranky triathl...  \n",
       "5  accountant arrogant greedy experiences keep da...  \n",
       "6  bribe receiving doesnt political woman treat s...  \n",
       "7  formula younger octogenarian soda internationa...  \n",
       "8  starving ability buy sold personal finds meets...  \n",
       "9  2035 time volunteers back virus population dea...  "
      ]
     },
     "execution_count": 25,
     "metadata": {},
     "output_type": "execute_result"
    }
   ],
   "source": [
    "data.head(10)"
   ]
  },
  {
   "cell_type": "code",
   "execution_count": 23,
   "metadata": {},
   "outputs": [],
   "source": [
    "data.to_csv('Netflix_data.csv',index=False,encoding='utf-8-sig')"
   ]
  },
  {
   "cell_type": "code",
   "execution_count": null,
   "metadata": {},
   "outputs": [],
   "source": []
  }
 ],
 "metadata": {
  "kernelspec": {
   "display_name": "Python 3",
   "language": "python",
   "name": "python3"
  },
  "language_info": {
   "codemirror_mode": {
    "name": "ipython",
    "version": 3
   },
   "file_extension": ".py",
   "mimetype": "text/x-python",
   "name": "python",
   "nbconvert_exporter": "python",
   "pygments_lexer": "ipython3",
   "version": "3.7.6"
  }
 },
 "nbformat": 4,
 "nbformat_minor": 4
}
