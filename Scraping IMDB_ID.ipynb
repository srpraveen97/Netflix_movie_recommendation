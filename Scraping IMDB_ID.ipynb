{
 "cells": [
  {
   "cell_type": "code",
   "execution_count": null,
   "metadata": {},
   "outputs": [],
   "source": [
    "import requests\n",
    "import bs4\n",
    "import string\n",
    "import re \n",
    "import pandas as pd\n",
    "import numpy as np\n",
    "from googlesearch import search\n",
    "import imdb"
   ]
  },
  {
   "cell_type": "code",
   "execution_count": null,
   "metadata": {},
   "outputs": [],
   "source": [
    "df = pd.read_csv(\"Movie_data.csv\")\n",
    "df = df.drop(['Unnamed: 0'],axis=1)"
   ]
  },
  {
   "cell_type": "code",
   "execution_count": null,
   "metadata": {},
   "outputs": [],
   "source": [
    "df.head()"
   ]
  },
  {
   "cell_type": "code",
   "execution_count": null,
   "metadata": {},
   "outputs": [],
   "source": [
    "List_of_movies = list(df['Title'])"
   ]
  },
  {
   "cell_type": "code",
   "execution_count": null,
   "metadata": {},
   "outputs": [],
   "source": [
    "imdb_id = []\n",
    "for movie in List_of_movies:\n",
    "    \n",
    "    web_url = []\n",
    "    for j in search(movie, tld=\"com\", num=10, stop=10, pause=2):\n",
    "        web_url.append(j)\n",
    "        \n",
    "    for num in range(len(web_url)):\n",
    "        \n",
    "        string = re.findall(r'https://www.imdb.com/'+'(.*)',web_url[num])\n",
    "\n",
    "        if string == []:\n",
    "            continue\n",
    "        else:\n",
    "            break\n",
    "    \n",
    "    if string == []:\n",
    "        imdb_id.append('No ID found')\n",
    "    else:\n",
    "        imdb_id.append(re.findall(r'[0-9]+',string.pop()).pop())"
   ]
  },
  {
   "cell_type": "code",
   "execution_count": null,
   "metadata": {},
   "outputs": [],
   "source": [
    "df['IMDB_ID'] = imdb_id\n",
    "df.to_csv('Movie_data_id.csv',encoding='utf-8-sig',index=False)"
   ]
  },
  {
   "cell_type": "code",
   "execution_count": null,
   "metadata": {},
   "outputs": [],
   "source": []
  }
 ],
 "metadata": {
  "kernelspec": {
   "display_name": "Python 3",
   "language": "python",
   "name": "python3"
  },
  "language_info": {
   "codemirror_mode": {
    "name": "ipython",
    "version": 3
   },
   "file_extension": ".py",
   "mimetype": "text/x-python",
   "name": "python",
   "nbconvert_exporter": "python",
   "pygments_lexer": "ipython3",
   "version": "3.7.6"
  }
 },
 "nbformat": 4,
 "nbformat_minor": 4
}
