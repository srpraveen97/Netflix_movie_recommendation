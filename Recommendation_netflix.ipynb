{
 "cells": [
  {
   "cell_type": "code",
   "execution_count": 1,
   "metadata": {},
   "outputs": [],
   "source": [
    "import pandas as pd\n",
    "import numpy as np\n",
    "from sklearn.feature_extraction.text import CountVectorizer\n",
    "from sklearn.metrics.pairwise import cosine_similarity"
   ]
  },
  {
   "cell_type": "code",
   "execution_count": 2,
   "metadata": {},
   "outputs": [],
   "source": [
    "df = pd.read_csv('Netflix_data.csv')"
   ]
  },
  {
   "cell_type": "code",
   "execution_count": 3,
   "metadata": {},
   "outputs": [
    {
     "data": {
      "text/html": [
       "<div>\n",
       "<style scoped>\n",
       "    .dataframe tbody tr th:only-of-type {\n",
       "        vertical-align: middle;\n",
       "    }\n",
       "\n",
       "    .dataframe tbody tr th {\n",
       "        vertical-align: top;\n",
       "    }\n",
       "\n",
       "    .dataframe thead th {\n",
       "        text-align: right;\n",
       "    }\n",
       "</style>\n",
       "<table border=\"1\" class=\"dataframe\">\n",
       "  <thead>\n",
       "    <tr style=\"text-align: right;\">\n",
       "      <th></th>\n",
       "      <th>Title</th>\n",
       "      <th>Bag_of_words</th>\n",
       "    </tr>\n",
       "  </thead>\n",
       "  <tbody>\n",
       "    <tr>\n",
       "      <th>0</th>\n",
       "      <td>10 Cloverfield Lane</td>\n",
       "      <td>theres convinces woman apocalyptic accident bu...</td>\n",
       "    </tr>\n",
       "    <tr>\n",
       "      <th>1</th>\n",
       "      <td>10 Days in Sun City</td>\n",
       "      <td>unexpected south nigeria faces joins pageant w...</td>\n",
       "    </tr>\n",
       "    <tr>\n",
       "      <th>2</th>\n",
       "      <td>10 jours en or</td>\n",
       "      <td>boy trip lives left embark young carefree road...</td>\n",
       "    </tr>\n",
       "    <tr>\n",
       "      <th>3</th>\n",
       "      <td>100 Days Of Solitude (100 días de soledad)</td>\n",
       "      <td>alone connecting photographer spanish beauty s...</td>\n",
       "    </tr>\n",
       "    <tr>\n",
       "      <th>4</th>\n",
       "      <td>100 Metros</td>\n",
       "      <td>sclerosis multiple fatherinlaws cranky triathl...</td>\n",
       "    </tr>\n",
       "  </tbody>\n",
       "</table>\n",
       "</div>"
      ],
      "text/plain": [
       "                                         Title  \\\n",
       "0                         10 Cloverfield Lane    \n",
       "1                         10 Days in Sun City    \n",
       "2                              10 jours en or    \n",
       "3  100 Days Of Solitude (100 días de soledad)    \n",
       "4                                  100 Metros    \n",
       "\n",
       "                                        Bag_of_words  \n",
       "0  theres convinces woman apocalyptic accident bu...  \n",
       "1  unexpected south nigeria faces joins pageant w...  \n",
       "2  boy trip lives left embark young carefree road...  \n",
       "3  alone connecting photographer spanish beauty s...  \n",
       "4  sclerosis multiple fatherinlaws cranky triathl...  "
      ]
     },
     "execution_count": 3,
     "metadata": {},
     "output_type": "execute_result"
    }
   ],
   "source": [
    "df.head()"
   ]
  },
  {
   "cell_type": "code",
   "execution_count": 26,
   "metadata": {},
   "outputs": [],
   "source": [
    "counter = CountVectorizer(encoding='utf-8-sig')\n",
    "matrix = counter.fit_transform(df['Bag_of_words'])\n",
    "similarity = cosine_similarity(matrix)"
   ]
  },
  {
   "cell_type": "code",
   "execution_count": 27,
   "metadata": {},
   "outputs": [
    {
     "data": {
      "text/plain": [
       "109562"
      ]
     },
     "execution_count": 27,
     "metadata": {},
     "output_type": "execute_result"
    }
   ],
   "source": [
    "len(counter.vocabulary_)"
   ]
  },
  {
   "cell_type": "code",
   "execution_count": 28,
   "metadata": {},
   "outputs": [
    {
     "data": {
      "text/plain": [
       "<3466x109562 sparse matrix of type '<class 'numpy.int64'>'\n",
       "\twith 200703 stored elements in Compressed Sparse Row format>"
      ]
     },
     "execution_count": 28,
     "metadata": {},
     "output_type": "execute_result"
    }
   ],
   "source": [
    "matrix"
   ]
  },
  {
   "cell_type": "code",
   "execution_count": 29,
   "metadata": {},
   "outputs": [],
   "source": [
    "def movie_recommendation(movie_name,similarity = similarity,df = df):\n",
    "    \n",
    "    recommendations = []\n",
    "    \n",
    "    movie_name = movie_name + \" \"\n",
    "    index = df[df['Title'] == movie_name].index.tolist()[-1] \n",
    "    sort_index = np.argsort(-1*similarity[index])\n",
    "    \n",
    "    for num in sort_index[1:11]:\n",
    "        \n",
    "        recommendations.append(df['Title'][num])\n",
    "        \n",
    "    return recommendations  "
   ]
  },
  {
   "cell_type": "code",
   "execution_count": 30,
   "metadata": {},
   "outputs": [
    {
     "data": {
      "text/plain": [
       "['The Hunger Games: Catching Fire ',\n",
       " 'The Hunger Games: Mockingjay - Part 1 ',\n",
       " 'The Hunger Games: Mockingjay - Part 2 ',\n",
       " 'Adrift ',\n",
       " 'The Darkest Hour ',\n",
       " '10 Cloverfield Lane ',\n",
       " 'See You Yesterday ',\n",
       " 'The Worthy ',\n",
       " 'Journey 2: The Mysterious Island ',\n",
       " 'How It Ends ']"
      ]
     },
     "execution_count": 30,
     "metadata": {},
     "output_type": "execute_result"
    }
   ],
   "source": [
    "movie_recommendation('The Hunger Games')"
   ]
  },
  {
   "cell_type": "code",
   "execution_count": 31,
   "metadata": {},
   "outputs": [
    {
     "data": {
      "text/plain": [
       "['The Hateful Eight ',\n",
       " 'Django Unchained ',\n",
       " 'Pulp Fiction ',\n",
       " 'Reservoir Dogs ',\n",
       " 'Kill Bill: Vol. 2 ',\n",
       " 'Company of Heroes ',\n",
       " 'Bang Rajan 2 ',\n",
       " 'My Honor Was Loyalty ',\n",
       " 'Killing Season ',\n",
       " \"Sonora, The Devil's Highway \"]"
      ]
     },
     "execution_count": 31,
     "metadata": {},
     "output_type": "execute_result"
    }
   ],
   "source": [
    "movie_recommendation('Inglourious Basterds')"
   ]
  },
  {
   "cell_type": "code",
   "execution_count": 32,
   "metadata": {},
   "outputs": [
    {
     "data": {
      "text/plain": [
       "['Ponyo ',\n",
       " 'Porco Rosso ',\n",
       " 'Princess Mononoke ',\n",
       " \"Howl's Moving Castle \",\n",
       " 'Spirit: Stallion of the Cimarron ',\n",
       " 'Garfield Gets Real ',\n",
       " 'Shrek ',\n",
       " 'Gnome Alone ',\n",
       " \"Garfield's Pet Force \",\n",
       " 'The Swan Princess: The Mystery of the Enchanted Treasure ']"
      ]
     },
     "execution_count": 32,
     "metadata": {},
     "output_type": "execute_result"
    }
   ],
   "source": [
    "movie_recommendation('Spirited Away')"
   ]
  },
  {
   "cell_type": "code",
   "execution_count": null,
   "metadata": {},
   "outputs": [],
   "source": []
  }
 ],
 "metadata": {
  "kernelspec": {
   "display_name": "Python 3",
   "language": "python",
   "name": "python3"
  },
  "language_info": {
   "codemirror_mode": {
    "name": "ipython",
    "version": 3
   },
   "file_extension": ".py",
   "mimetype": "text/x-python",
   "name": "python",
   "nbconvert_exporter": "python",
   "pygments_lexer": "ipython3",
   "version": "3.7.6"
  }
 },
 "nbformat": 4,
 "nbformat_minor": 4
}
