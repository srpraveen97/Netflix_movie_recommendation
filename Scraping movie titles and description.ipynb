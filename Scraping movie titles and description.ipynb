{
 "cells": [
  {
   "cell_type": "code",
   "execution_count": 1,
   "metadata": {},
   "outputs": [],
   "source": [
    "import requests\n",
    "import bs4\n",
    "import string\n",
    "import re \n",
    "import pandas as pd"
   ]
  },
  {
   "cell_type": "code",
   "execution_count": 2,
   "metadata": {},
   "outputs": [],
   "source": [
    "agent = {\"User-Agent\":'Mozilla/5.0 (Windows NT 6.3; WOW64) AppleWebKit/537.36 (KHTML, like Gecko) Chrome/59.0.3071.115 Safari/537.36'}\n",
    "base_url = 'https://can.newonnetflix.info/catalogue/a2z/movies/{}'"
   ]
  },
  {
   "cell_type": "code",
   "execution_count": 3,
   "metadata": {},
   "outputs": [],
   "source": [
    "Movie_titles = []\n",
    "Movie_description = []\n",
    "\n",
    "rng = list('#'+string.ascii_lowercase)\n",
    "\n",
    "for page in rng:\n",
    "\n",
    "    if page == '#':\n",
    "        scrape_url = 'https://can.newonnetflix.info/catalogue/a2z/movies'\n",
    "    else:\n",
    "        scrape_url = base_url.format(page)\n",
    "    \n",
    "    res = requests.get(scrape_url,headers=agent)\n",
    "    soup = bs4.BeautifulSoup(res.text,\"lxml\")\n",
    "    \n",
    "    num_of_pages = int(re.findall(r'[0-9]+', soup.select(\".wrapper\")[0].select(\".datemenu\")[1].get_text()).pop())\n",
    "    \n",
    "    for num in range(1,num_of_pages+1):\n",
    "        \n",
    "        scrape_url_page = scrape_url + '?start={}#results'.format(120*(num-1))\n",
    "        \n",
    "        res = requests.get(scrape_url_page,headers=agent)\n",
    "        soup = bs4.BeautifulSoup(res.text,\"lxml\")\n",
    "        \n",
    "        status_movie = True\n",
    "        \n",
    "        i = 0\n",
    "\n",
    "        while status_movie:\n",
    "            try:\n",
    "                Movie_titles.append(soup.select(\".oldpost\")[i].select(\".infopop\")[1].get_text())\n",
    "                Movie_description.append(soup.select(\".oldpost\")[i].select(\".infopop\")[1]['title'])\n",
    "                i = i + 1\n",
    "            except:\n",
    "                status_movie = False\n",
    "            "
   ]
  },
  {
   "cell_type": "code",
   "execution_count": 10,
   "metadata": {},
   "outputs": [],
   "source": [
    "List_of_movies = [re.sub(r\"\\(\\d\\d\\d\\d\\)\",\"\",Movie_titles[num]) for num in range(len(Movie_titles))]\n",
    "Desc_of_movies = [re.sub(r\"\\[.*\\]\",\"\",Movie_description[num]) for num in range(len(Movie_titles))]"
   ]
  },
  {
   "cell_type": "code",
   "execution_count": 15,
   "metadata": {},
   "outputs": [
    {
     "data": {
      "text/html": [
       "<div>\n",
       "<style scoped>\n",
       "    .dataframe tbody tr th:only-of-type {\n",
       "        vertical-align: middle;\n",
       "    }\n",
       "\n",
       "    .dataframe tbody tr th {\n",
       "        vertical-align: top;\n",
       "    }\n",
       "\n",
       "    .dataframe thead th {\n",
       "        text-align: right;\n",
       "    }\n",
       "</style>\n",
       "<table border=\"1\" class=\"dataframe\">\n",
       "  <thead>\n",
       "    <tr style=\"text-align: right;\">\n",
       "      <th></th>\n",
       "      <th>Title</th>\n",
       "      <th>Desc_of_movies</th>\n",
       "    </tr>\n",
       "  </thead>\n",
       "  <tbody>\n",
       "    <tr>\n",
       "      <th>0</th>\n",
       "      <td>10 Cloverfield Lane</td>\n",
       "      <td>After breaking up with her fiancé, a woman ha...</td>\n",
       "    </tr>\n",
       "    <tr>\n",
       "      <th>1</th>\n",
       "      <td>10 Days in Sun City</td>\n",
       "      <td>After his girlfriend wins the Miss Nigeria pag...</td>\n",
       "    </tr>\n",
       "    <tr>\n",
       "      <th>2</th>\n",
       "      <td>10 jours en or</td>\n",
       "      <td>When a carefree bachelor is unexpectedly left ...</td>\n",
       "    </tr>\n",
       "    <tr>\n",
       "      <th>3</th>\n",
       "      <td>100 Days Of Solitude (100 días de soledad)</td>\n",
       "      <td>Spanish photographer José Díaz spends 100 days...</td>\n",
       "    </tr>\n",
       "    <tr>\n",
       "      <th>4</th>\n",
       "      <td>100 Metros</td>\n",
       "      <td>A man who is diagnosed with multiple sclerosis...</td>\n",
       "    </tr>\n",
       "  </tbody>\n",
       "</table>\n",
       "</div>"
      ],
      "text/plain": [
       "                                         Title  \\\n",
       "0                         10 Cloverfield Lane    \n",
       "1                         10 Days in Sun City    \n",
       "2                              10 jours en or    \n",
       "3  100 Days Of Solitude (100 días de soledad)    \n",
       "4                                  100 Metros    \n",
       "\n",
       "                                      Desc_of_movies  \n",
       "0   After breaking up with her fiancé, a woman ha...  \n",
       "1  After his girlfriend wins the Miss Nigeria pag...  \n",
       "2  When a carefree bachelor is unexpectedly left ...  \n",
       "3  Spanish photographer José Díaz spends 100 days...  \n",
       "4  A man who is diagnosed with multiple sclerosis...  "
      ]
     },
     "execution_count": 15,
     "metadata": {},
     "output_type": "execute_result"
    }
   ],
   "source": [
    "dict = {'Title':List_of_movies,'Desc_of_movies':Desc_of_movies,}\n",
    "df = pd.DataFrame(dict)\n",
    "df.head()"
   ]
  },
  {
   "cell_type": "code",
   "execution_count": 17,
   "metadata": {},
   "outputs": [],
   "source": [
    "df.to_csv('Movie_data.csv',encoding='utf-8-sig')"
   ]
  },
  {
   "cell_type": "code",
   "execution_count": null,
   "metadata": {},
   "outputs": [],
   "source": []
  }
 ],
 "metadata": {
  "kernelspec": {
   "display_name": "Python 3",
   "language": "python",
   "name": "python3"
  },
  "language_info": {
   "codemirror_mode": {
    "name": "ipython",
    "version": 3
   },
   "file_extension": ".py",
   "mimetype": "text/x-python",
   "name": "python",
   "nbconvert_exporter": "python",
   "pygments_lexer": "ipython3",
   "version": "3.7.6"
  }
 },
 "nbformat": 4,
 "nbformat_minor": 4
}
